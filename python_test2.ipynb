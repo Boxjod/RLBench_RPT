{
 "cells": [
  {
   "cell_type": "markdown",
   "metadata": {},
   "source": [
    "nn.DataParallel()只能处理模型"
   ]
  },
  {
   "cell_type": "code",
   "execution_count": 9,
   "metadata": {},
   "outputs": [],
   "source": [
    "import torch\n",
    "import torch.nn as nn\n",
    "import torch.optim as optim\n",
    "from torch.utils.data import DataLoader, Dataset\n",
    "\n",
    "# 定义神经网络模型\n",
    "class MyModel(nn.Module):\n",
    "    def __init__(self):\n",
    "        super(MyModel, self).__init__()\n",
    "        # 定义你的模型结构\n",
    "        self.fc = nn.Linear(in_features=10, out_features=1)\n",
    "    \n",
    "    def forward(self, x):\n",
    "        # 定义前向传播逻辑\n",
    "        x = self.fc(x)\n",
    "        return x\n",
    "\n",
    "# 定义数据集\n",
    "class MyDataset(Dataset):\n",
    "    def __init__(self, data):\n",
    "        self.data = data\n",
    "    \n",
    "    def __len__(self):\n",
    "        return len(self.data)\n",
    "    \n",
    "    def __getitem__(self, index):\n",
    "        return self.data[index]\n",
    "\n",
    "# 假设有10张图片数据\n",
    "data = torch.randn(10, 10)  # 假设每张图片有10个特征\n",
    "\n",
    "# 创建数据集和数据加载器\n",
    "dataset = MyDataset(data)\n",
    "dataloader = DataLoader(dataset, batch_size=1, shuffle=False)\n",
    "\n",
    "# 初始化模型并放到GPU上\n",
    "model = MyModel().cuda()\n",
    "\n",
    "# 将模型在GPU上进行并行化\n",
    "model = nn.DataParallel(model)\n"
   ]
  },
  {
   "cell_type": "code",
   "execution_count": 12,
   "metadata": {},
   "outputs": [
    {
     "name": "stdout",
     "output_type": "stream",
     "text": [
      "1\n",
      "tensor([[0.3122]], device='cuda:0', grad_fn=<AddmmBackward0>)\n",
      "2\n",
      "tensor([[0.2484]], device='cuda:0', grad_fn=<AddmmBackward0>)\n",
      "3\n",
      "tensor([[0.3374]], device='cuda:0', grad_fn=<AddmmBackward0>)\n",
      "4\n",
      "tensor([[-0.1192]], device='cuda:0', grad_fn=<AddmmBackward0>)\n",
      "5\n",
      "tensor([[0.5996]], device='cuda:0', grad_fn=<AddmmBackward0>)\n",
      "6\n",
      "tensor([[0.2356]], device='cuda:0', grad_fn=<AddmmBackward0>)\n",
      "7\n",
      "tensor([[-0.1340]], device='cuda:0', grad_fn=<AddmmBackward0>)\n",
      "8\n",
      "tensor([[0.0684]], device='cuda:0', grad_fn=<AddmmBackward0>)\n",
      "9\n",
      "tensor([[-1.0539]], device='cuda:0', grad_fn=<AddmmBackward0>)\n",
      "10\n",
      "tensor([[-0.1103]], device='cuda:0', grad_fn=<AddmmBackward0>)\n"
     ]
    }
   ],
   "source": [
    "x = 0\n",
    "for batch in dataloader:\n",
    "  # 将数据移动到GPU上\n",
    "  inputs = batch.cuda()\n",
    "  \n",
    "  # 正向传播\n",
    "  outputs = model(inputs)\n",
    "  x = x+1\n",
    "  print(x)\n",
    "  print(outputs)"
   ]
  },
  {
   "cell_type": "code",
   "execution_count": null,
   "metadata": {},
   "outputs": [],
   "source": [
    "\n",
    "# 定义损失函数和优化器\n",
    "criterion = nn.MSELoss()\n",
    "optimizer = optim.SGD(model.parameters(), lr=0.001)\n",
    "\n",
    "num_epochs = 1000\n",
    "\n",
    "# 训练模型\n",
    "for epoch in range(num_epochs):\n",
    "    for batch in dataloader:\n",
    "        # 将数据移动到GPU上\n",
    "        inputs = batch.cuda()\n",
    "        \n",
    "        # 正向传播\n",
    "        outputs = model(inputs)\n",
    "        \n",
    "        # 计算损失\n",
    "        loss = criterion(outputs, labels)\n",
    "        \n",
    "        # 反向传播和优化\n",
    "        optimizer.zero_grad()\n",
    "        loss.backward()\n",
    "        optimizer.step()\n"
   ]
  },
  {
   "cell_type": "code",
   "execution_count": null,
   "metadata": {},
   "outputs": [],
   "source": []
  },
  {
   "cell_type": "markdown",
   "metadata": {},
   "source": [
    "torch.multiprocessing，可以给函数使用"
   ]
  },
  {
   "cell_type": "code",
   "execution_count": 8,
   "metadata": {},
   "outputs": [
    {
     "name": "stdout",
     "output_type": "stream",
     "text": [
      "Process 3: Result = tensor([ 3,  6,  9, 12, 15])Process 0: Result = tensor([0, 0, 0, 0, 0])Process 2: Result = tensor([ 2,  4,  6,  8, 10])Process 1: Result = tensor([1, 2, 3, 4, 5])\n",
      "\n",
      "\n",
      "\n"
     ]
    }
   ],
   "source": [
    "import torch\n",
    "import torch.nn as nn\n",
    "import torch.optim as optim\n",
    "import torch.multiprocessing as mp\n",
    "\n",
    "# 定义神经网络模型\n",
    "class MyModel(nn.Module):\n",
    "    def __init__(self):\n",
    "        super(MyModel, self).__init__()\n",
    "        # 定义你的模型结构\n",
    "        self.fc = nn.Linear(in_features=1, out_features=1)\n",
    "    \n",
    "    def forward(self, x):\n",
    "        # 定义前向传播逻辑\n",
    "        x = self.fc(x)\n",
    "        return x\n",
    "\n",
    "# 定义一个函数，用于在多进程中执行神经网络的计算\n",
    "def worker_function(index, input_data):\n",
    "    # 初始化模型\n",
    "    model = MyModel()\n",
    "    \n",
    "    # 定义损失函数和优化器\n",
    "    criterion = nn.MSELoss()\n",
    "    optimizer = optim.SGD(model.parameters(), lr=0.01)\n",
    "    \n",
    "    # 准备数据\n",
    "    inputs = torch.tensor([[input_data[index]]], dtype=torch.float32)\n",
    "    labels = torch.tensor([[input_data[index] * 2]], dtype=torch.float32)  # 举例：输出为输入的两倍\n",
    "    \n",
    "    # 训练模型\n",
    "    for _ in range(100):\n",
    "        optimizer.zero_grad()\n",
    "        outputs = model(inputs)\n",
    "        loss = criterion(outputs, labels)\n",
    "        loss.backward()\n",
    "        optimizer.step()\n",
    "    \n",
    "    # 返回输出结果\n",
    "    return outputs.item()\n",
    "\n",
    "if __name__ == '__main__':\n",
    "    # 准备数据\n",
    "    input_data = [1, 2, 3, 4, 5]\n",
    "    \n",
    "    # 创建进程池\n",
    "    num_processes = len(input_data)\n",
    "    pool = mp.Pool(processes=num_processes)\n",
    "    \n",
    "    # 在进程池中并行执行神经网络计算\n",
    "    results = [pool.apply_async(worker_function, args=(i, input_data)) for i in range(num_processes)]\n",
    "    \n",
    "    # 收集所有进程的结果\n",
    "    final_results = [result.get() for result in results]\n",
    "    \n",
    "    # 输出结果\n",
    "    print(\"Final Results:\", final_results)\n"
   ]
  },
  {
   "cell_type": "code",
   "execution_count": 39,
   "metadata": {},
   "outputs": [
    {
     "name": "stdout",
     "output_type": "stream",
     "text": [
      "input_tensor.shape=torch.Size([2, 3, 4, 3, 5, 5])\n",
      "[-1  4  3  5  5]\n",
      "[-1, 4, 3, 5, 5]\n",
      "原始形状： torch.Size([2, 3, 4, 3, 5, 5])\n",
      "重塑后的形状： torch.Size([6, 4, 3, 5, 5])\n",
      "tensor(0.1753)\n",
      "tensor(0.1753)\n",
      "tensor(0.1753)\n",
      "重塑后的形状： torch.Size([6, 4, 3, 5, 5])\n",
      "恢复后的形状： torch.Size([2, 3, 4, 3, 5, 5])\n"
     ]
    }
   ],
   "source": [
    "import torch\n",
    "import numpy as np\n",
    "\n",
    "# 假设你有一个输入张量 input_tensor\n",
    "# input_tensor 的形状为 [batch_size, history_idx, cam_id, channel, width, height]\n",
    "\n",
    "# 生成示例输入数据（假设batch_size=2，history_idx=3，cam_id=4，channel=3，width=5，height=5）\n",
    "batch_size = 2\n",
    "history_idx = 3\n",
    "cam_id = 4\n",
    "channel = 3\n",
    "width = 5\n",
    "height = 5\n",
    "\n",
    "input_tensor = torch.randn(batch_size, history_idx, cam_id, channel, width, height)\n",
    "\n",
    "print(f\"{input_tensor.shape=}\")\n",
    "\n",
    "# 将输入张量重塑成 [batch_size*history_idx, cam_id, channel, width, height]\n",
    "input_shape = input_tensor.shape\n",
    "target_shape = np.append(-1, input_shape[2:])\n",
    "print(f\"{target_shape}\")\n",
    "print([-1, cam_id, channel, width, height])\n",
    "\n",
    "reshaped_tensor = input_tensor.view(-1, cam_id, channel, width, height)\n",
    "reshaped_tensor1 = input_tensor.view(target_shape[0], target_shape[1], target_shape[2], target_shape[3], target_shape[4])\n",
    "\n",
    "# 恢复原来的形状\n",
    "output_tensor = reshaped_tensor.view(batch_size, history_idx, cam_id, channel, width, height)\n",
    "\n",
    "# 打印结果\n",
    "print(\"原始形状：\", input_tensor.shape)\n",
    "print(\"重塑后的形状：\", reshaped_tensor.shape)\n",
    "print(input_tensor[1,2,0,0,0,2])\n",
    "print(reshaped_tensor[5,0,0,0,2])\n",
    "print(output_tensor[1,2,0,0,0,2])\n",
    "print(\"重塑后的形状：\", reshaped_tensor1.shape)\n",
    "\n",
    "print(\"恢复后的形状：\", output_tensor.shape)\n"
   ]
  },
  {
   "cell_type": "code",
   "execution_count": null,
   "metadata": {},
   "outputs": [],
   "source": []
  },
  {
   "cell_type": "code",
   "execution_count": null,
   "metadata": {},
   "outputs": [],
   "source": []
  },
  {
   "cell_type": "code",
   "execution_count": 48,
   "metadata": {},
   "outputs": [
    {
     "name": "stdout",
     "output_type": "stream",
     "text": [
      "图片列表长度： 6\n",
      "查看列表shape:\n",
      "(30, 40, 3)\n",
      "(30, 40, 3)\n",
      "(30, 40, 3)\n",
      "(30, 40, 3)\n",
      "(30, 40, 3)\n",
      "(120, 160, 3)\n"
     ]
    }
   ],
   "source": [
    "import numpy as np\n",
    "import cv2 as cv\n",
    "\n",
    "image = np.ones([480,640,3])\n",
    "\n",
    "image_dict = dict()\n",
    "image_dict[\"wrist\"] = image\n",
    "\n",
    "image_list = []\n",
    "for idx in range(5):\n",
    "  image_list.append(image_dict)\n",
    "\n",
    "image2 = np.ones([120,160,3])\n",
    "image_dict2 = dict()\n",
    "image_dict2[\"wrist\"] = image2\n",
    "image_list.append(image_dict2)\n",
    "\n",
    "print(\"图片列表长度：\",len(image_list)) # 妈的大问题，如果一个list又形状不同的元素，就无法使用np.shape\n",
    "\n",
    "# 查看列表shape\n",
    "# print(\"查看列表shape:\")\n",
    "# for idx in range(len(image_list)):\n",
    "#   print(np.shape(image_list[idx][\"wrist\"]))\n",
    "\n",
    "\n",
    "# for idx in range(2):\n",
    "#   image_list[idx][\"wrist\"] = cv.resize(image_list[idx][\"wrist\"], (0, 0), fx=0.25, fy=0.25, interpolation=cv.INTER_LINEAR)\n",
    "\n",
    "for idx in range(2):\n",
    "  image_list[idx][\"wrist\"] = cv.resize(image_list[idx][\"wrist\"], (0, 0), fx=0.25, fy=0.25, interpolation=cv.INTER_LINEAR)\n",
    "\n",
    "# 查看列表shape\n",
    "print(\"查看列表shape:\")\n",
    "for idx in range(len(image_list)):\n",
    "  print(np.shape(image_list[idx][\"wrist\"]))\n",
    "  "
   ]
  },
  {
   "cell_type": "code",
   "execution_count": 49,
   "metadata": {},
   "outputs": [
    {
     "name": "stdout",
     "output_type": "stream",
     "text": [
      "6\n",
      "(120, 160, 3)\n",
      "(120, 160, 3)\n",
      "(480, 640, 3)\n",
      "(480, 640, 3)\n",
      "(480, 640, 3)\n",
      "(120, 160, 3)\n"
     ]
    }
   ],
   "source": [
    "import numpy as np\n",
    "import cv2 as cv\n",
    "\n",
    "image = np.ones([480,640,3])\n",
    "\n",
    "image_dict = dict() # 又是dict的对象指针问题，操你妈\n",
    "image_dict[\"wrist\"] = image\n",
    "\n",
    "image_list = []\n",
    "for idx in range(5):\n",
    "  image_list.append(image_dict.copy())  # 使用 .copy() 方法来避免列表中所有元素指向同一字典\n",
    "\n",
    "image2 = np.ones([120,160,3])\n",
    "image_dict2 = dict()\n",
    "image_dict2[\"wrist\"] = image2\n",
    "image_list.append(image_dict2)\n",
    "\n",
    "print(len(image_list))\n",
    "\n",
    "# 统一图像大小\n",
    "# for idx in range(len(image_list)):\n",
    "#     image_list[idx][\"wrist\"] = cv.resize(image_list[idx][\"wrist\"], (640, 480), interpolation=cv.INTER_LINEAR)\n",
    "\n",
    "for idx in range(2):\n",
    "  image_list[idx][\"wrist\"] = cv.resize(image_list[idx][\"wrist\"], (0, 0), fx=0.25, fy=0.25, interpolation=cv.INTER_LINEAR)\n",
    "\n",
    "for idx in range(len(image_list)):\n",
    "  print(np.shape(image_list[idx][\"wrist\"]))\n"
   ]
  },
  {
   "cell_type": "code",
   "execution_count": 7,
   "metadata": {},
   "outputs": [
    {
     "data": {
      "text/plain": [
       "array([18, 15, 17])"
      ]
     },
     "execution_count": 7,
     "metadata": {},
     "output_type": "execute_result"
    }
   ],
   "source": [
    "import numpy as np\n",
    "\n",
    "np.random.choice(range(15,20), size=3, replace=False)"
   ]
  },
  {
   "cell_type": "code",
   "execution_count": 19,
   "metadata": {},
   "outputs": [
    {
     "name": "stdout",
     "output_type": "stream",
     "text": [
      "10\n"
     ]
    }
   ],
   "source": [
    "x = [10, 5]\n",
    "# x = reversed(x)\n",
    "\n",
    "# print(x[-1])\n",
    "\n",
    "y = 12\n",
    "\n",
    "for i in x:\n",
    "  \n",
    "  if y >= i:\n",
    "    print(i)\n",
    "    break\n",
    "  \n",
    "  elif y < i and i != x[-1]:\n",
    "    continue\n",
    "  \n",
    "  print(i)"
   ]
  },
  {
   "cell_type": "code",
   "execution_count": 23,
   "metadata": {},
   "outputs": [
    {
     "name": "stdout",
     "output_type": "stream",
     "text": [
      "10\n",
      "9\n",
      "8\n",
      "7\n",
      "6\n",
      "5\n",
      "4\n",
      "3\n",
      "2\n",
      "1\n"
     ]
    }
   ],
   "source": [
    "for i in range(10, 0, -1):\n",
    "  print(i)"
   ]
  },
  {
   "cell_type": "code",
   "execution_count": 16,
   "metadata": {},
   "outputs": [
    {
     "name": "stdout",
     "output_type": "stream",
     "text": [
      "tensor([[[ 1.,  2.,  3.],\n",
      "         [ 4.,  5.,  6.],\n",
      "         [ 7.,  8.,  9.],\n",
      "         [ 4.,  5.,  6.]],\n",
      "\n",
      "        [[10., 11., 12.],\n",
      "         [13., 14., 15.],\n",
      "         [16., 17., 18.],\n",
      "         [13., 14., 15.]]])\n"
     ]
    }
   ],
   "source": [
    "import torch\n",
    "\n",
    "# 创建一个三维张量\n",
    "tensor = torch.tensor([[[1, 2, 3],\n",
    "                        [4, 5, 6],\n",
    "                        [7, 8, 9]],\n",
    "                       [[10, 11, 12],\n",
    "                        [13, 14, 15],\n",
    "                        [16, 17, 18]]]).float()\n",
    "\n",
    "# 计算每个“列”的平均值\n",
    "column_means = torch.mean(tensor, dim=1)\n",
    "\n",
    "# 创建一个新“行”并将平均值添加进去\n",
    "new_row = torch.unsqueeze(column_means, dim=1)\n",
    "\n",
    "# 将新“行”与原始张量在第一维上拼接\n",
    "extended_tensor = torch.cat((tensor, new_row), dim=1)\n",
    "\n",
    "print(extended_tensor)\n"
   ]
  },
  {
   "cell_type": "code",
   "execution_count": 14,
   "metadata": {},
   "outputs": [
    {
     "name": "stdout",
     "output_type": "stream",
     "text": [
      "tensor([[1., 2., 3.],\n",
      "        [4., 5., 6.],\n",
      "        [7., 8., 9.],\n",
      "        [4., 5., 6.]])\n"
     ]
    }
   ],
   "source": [
    "import torch\n",
    "\n",
    "# 创建一个二维张量\n",
    "tensor = torch.tensor([[1, 2, 3],\n",
    "                       [4, 5, 6],\n",
    "                       [7, 8, 9]]).float()\n",
    "\n",
    "# 计算每一列的平均值\n",
    "column_means = torch.mean(tensor, dim=0)\n",
    "\n",
    "# 将平均值添加为新行\n",
    "new_row = column_means.unsqueeze(0)  # 添加维度使其成为行向量\n",
    "\n",
    "# 将新行与原始张量垂直拼接\n",
    "extended_tensor = torch.cat((tensor, new_row), dim=0)\n",
    "\n",
    "print(extended_tensor)\n"
   ]
  },
  {
   "cell_type": "code",
   "execution_count": 35,
   "metadata": {},
   "outputs": [
    {
     "name": "stdout",
     "output_type": "stream",
     "text": [
      "均值数组的形状: (8,)\n",
      "[0.50591286 0.50035044 0.49669871 0.50322284 0.50480024 0.50018149\n",
      " 0.50370818 0.50647069]\n"
     ]
    }
   ],
   "source": [
    "import numpy as np\n",
    "\n",
    "# 假设你的数组名为data\n",
    "data = np.random.rand(50, 90, 8)  # 这里使用随机生成的数据作为示例\n",
    "\n",
    "np.array\n",
    "\n",
    "\n",
    "# 沿着第二个维度计算均值\n",
    "mean_values = np.mean(data, axis=1)\n",
    "mean_values = np.mean(mean_values, axis=0)\n",
    "\n",
    "# 输出结果的形状\n",
    "print(\"均值数组的形状:\", mean_values.shape)\n",
    "print(mean_values)"
   ]
  },
  {
   "cell_type": "code",
   "execution_count": 82,
   "metadata": {},
   "outputs": [
    {
     "name": "stdout",
     "output_type": "stream",
     "text": [
      "y.shape=torch.Size([3, 5, 8])\n",
      "y_mean.shape=torch.Size([1, 1, 8])\n",
      "y_mean=tensor([[[ 2.8000,  5.6000,  8.4000, 11.2000, 14.0000, 16.8000, 19.6000,\n",
      "          22.4000]]], dtype=torch.float64)\n",
      "y_std.shape=torch.Size([1, 1, 8])\n",
      "y_std=tensor([[[ 3.7264,  7.4527, 11.1791, 14.9054, 18.6318, 22.3581, 26.0845,\n",
      "          29.8108]]], dtype=torch.float64)\n"
     ]
    }
   ],
   "source": [
    "import torch\n",
    "import numpy as np\n",
    "\n",
    "# for i in range(40):\n",
    "  \n",
    "x = np.array([[1.0,2.0,3.0,4.0,5.0,6.0,7.0,8.0],[10.0,20.0,30.0,40.0,50.0,60.0,70.0,80.0],[1.0,2.0,3.0,4.0,5.0,6.0,7.0,8.0],[1.0,2.0,3.0,4.0,5.0,6.0,7.0,8.0],[1.0,2.0,3.0,4.0,5.0,6.0,7.0,8.0]]) # 4 x 3 = (12*1 + 3*10)/15 = 2.8\n",
    "\n",
    "y = []\n",
    "y.append(torch.from_numpy(x))\n",
    "y.append(torch.from_numpy(x))\n",
    "y.append(torch.from_numpy(x))\n",
    "\n",
    "y = torch.stack(y) # 等于就是列表转换成矩阵了\n",
    "\n",
    "# y = torch.tensor(y, dtype=torch.float64)\n",
    "\n",
    "print(f\"{y.shape=}\")\n",
    "\n",
    "# y_mean = torch.mean(y, dim=1)\n",
    "# y_mean = torch.mean(y_mean, dim=0)\n",
    "y_mean = y.mean(dim=[0, 1], keepdim=True)\n",
    "print(f\"{y_mean.shape=}\")\n",
    "print(f\"{y_mean=}\")\n",
    "\n",
    "# y_std = torch.std(y, dim=1)\n",
    "# y_std = torch.std(y_std, dim=0)\n",
    "\n",
    "y_std = y.std(dim=[0, 1], keepdim=True)\n",
    "print(f\"{y_std.shape=}\")\n",
    "print(f\"{y_std=}\")\n"
   ]
  },
  {
   "cell_type": "code",
   "execution_count": 85,
   "metadata": {},
   "outputs": [
    {
     "ename": "ValueError",
     "evalue": "setting an array element with a sequence. The requested array has an inhomogeneous shape after 1 dimensions. The detected shape was (3,) + inhomogeneous part.",
     "output_type": "error",
     "traceback": [
      "\u001b[0;31m---------------------------------------------------------------------------\u001b[0m",
      "\u001b[0;31mValueError\u001b[0m                                Traceback (most recent call last)",
      "Cell \u001b[0;32mIn[85], line 13\u001b[0m\n\u001b[1;32m     10\u001b[0m y\u001b[38;5;241m.\u001b[39mappend(x)\n\u001b[1;32m     11\u001b[0m y\u001b[38;5;241m.\u001b[39mappend(x)\n\u001b[0;32m---> 13\u001b[0m y \u001b[38;5;241m=\u001b[39m \u001b[43mnp\u001b[49m\u001b[38;5;241;43m.\u001b[39;49m\u001b[43marray\u001b[49m\u001b[43m(\u001b[49m\u001b[43my\u001b[49m\u001b[43m)\u001b[49m\n\u001b[1;32m     14\u001b[0m \u001b[38;5;28mprint\u001b[39m(y\u001b[38;5;241m.\u001b[39mshape)\n\u001b[1;32m     16\u001b[0m \u001b[38;5;66;03m# y = y.reshape(-1,y.shape[-1])\u001b[39;00m\n",
      "\u001b[0;31mValueError\u001b[0m: setting an array element with a sequence. The requested array has an inhomogeneous shape after 1 dimensions. The detected shape was (3,) + inhomogeneous part."
     ]
    }
   ],
   "source": [
    "import torch\n",
    "import numpy as np\n",
    "\n",
    "x1 = np.array([[1.0,2.0,3.0,4.0,5.0,6.0,7.0,8.0],[10.0,20.0,30.0,40.0,50.0,60.0,70.0,80.0],[1.0,2.0,3.0,4.0,5.0,6.0,7.0,8.0],[1.0,2.0,3.0,4.0,5.0,6.0,7.0,8.0],[1.0,2.0,3.0,4.0,5.0,6.0,7.0,8.0]]) # 4 x 3 = (12*1 + 3*10)/15 = \n",
    "x2 = np.array([[1.0,2.0,3.0,4.0,5.0,6.0,7.0,8.0],[10.0,20.0,30.0,40.0,50.0,60.0,70.0,80.0],[1.0,2.0,3.0,4.0,5.0,6.0,7.0,8.0],[1.0,2.0,3.0,4.0,5.0,6.0,7.0,8.0]])\n",
    "\n",
    "x = np.concatenate((x1, x2), axis=0)\n",
    "\n",
    "\n",
    "# 不能用append\n",
    "# 直接拼接\n",
    "\n",
    "y = []\n",
    "y.append(x)\n",
    "x = np.array([[1.0,2.0,3.0,4.0,5.0,6.0,7.0,8.0],[10.0,20.0,30.0,40.0,50.0,60.0,70.0,80.0],[1.0,2.0,3.0,4.0,5.0,6.0,7.0,8.0],[1.0,2.0,3.0,4.0,5.0,6.0,7.0,8.0]])\n",
    "y.append(x)\n",
    "y.append(x)\n",
    "\n",
    "y = np.array(y)\n",
    "print(y.shape)\n",
    "\n",
    "# y = y.reshape(-1,y.shape[-1])\n",
    "print(y.shape)\n",
    "\n",
    "y_mean = np.mean(y, axis=(0,1))\n",
    "print(y_mean)\n",
    "\n",
    "y_std = np.std(y, axis=(0,1), dtype=np.float64)\n",
    "print(y_std)\n"
   ]
  },
  {
   "cell_type": "code",
   "execution_count": null,
   "metadata": {},
   "outputs": [],
   "source": [
    "[ 2.8,  5.6,  8.4, 11.2, 14.0, 16.8, 19.6, 22.4]\n",
    "[ 2.8,  5.6,  8.4, 11.2, 14.0, 16.8, 19.6, 22.4]\n",
    "\n",
    "\n",
    "[ 3.6  7.2 10.8 14.4 18.  21.6 25.2 28.8]\n",
    "[ 3.7264,  7.4527, 11.1791, 14.9054, 18.6318, 22.3581, 26.0845, 29.8108]\n"
   ]
  },
  {
   "cell_type": "code",
   "execution_count": 2,
   "metadata": {},
   "outputs": [
    {
     "name": "stdout",
     "output_type": "stream",
     "text": [
      "(15, 8)\n",
      "torch.Size([15, 8])\n",
      "y_mean.shape=torch.Size([1, 1, 8])\n",
      "y_mean=tensor([[[ 2.8000,  5.6000,  8.4000, 11.2000, 14.0000, 16.8000, 19.6000,\n",
      "          22.4000]]], dtype=torch.float64)\n",
      "y_std.shape=torch.Size([1, 1, 8])\n",
      "y_std=tensor([[[ 3.7264,  7.4527, 11.1791, 14.9054, 18.6318, 22.3581, 26.0845,\n",
      "          29.8108]]], dtype=torch.float64)\n"
     ]
    }
   ],
   "source": [
    "import torch\n",
    "import numpy as np\n",
    "# y = np.array([])\n",
    "\n",
    "x1 = np.array([[1.0,2.0,3.0,4.0,5.0,6.0,7.0,8.0],[10.0,20.0,30.0,40.0,50.0,60.0,70.0,80.0],[1.0,2.0,3.0,4.0,5.0,6.0,7.0,8.0],[1.0,2.0,3.0,4.0,5.0,6.0,7.0,8.0],[1.0,2.0,3.0,4.0,5.0,6.0,7.0,8.0]]) # 4 x 3 = (12*1 + 3*10)/15 = \n",
    "# x2 = np.array([[1.0,2.0,3.0,4.0,5.0,6.0,7.0,8.0],[10.0,20.0,30.0,40.0,50.0,60.0,70.0,80.0],[1.0,2.0,3.0,4.0,5.0,6.0,7.0,8.0],[1.0,2.0,3.0,4.0,5.0,6.0,7.0,8.0]])\n",
    "\n",
    "y = x1\n",
    "y = np.concatenate((y,x1), axis=0)\n",
    "y = np.concatenate((y,x1), axis=0)\n",
    "print(f\"{y.shape}\")\n",
    "\n",
    "# y_mean = np.mean(x, axis=0)\n",
    "# print(y_mean)\n",
    "\n",
    "# y_std = np.std(x, axis=0, dtype=np.float64)\n",
    "# print(y_std)\n",
    "\n",
    "y = torch.from_numpy(y)\n",
    "print(y.shape)\n",
    "y_mean = y.mean(dim=0, keepdim=True).unsqueeze(0)\n",
    "print(f\"{y_mean.shape=}\")\n",
    "print(f\"{y_mean=}\")\n",
    "\n",
    "y_std = y.std(dim=0, keepdim=True).unsqueeze(0)\n",
    "print(f\"{y_std.shape=}\")\n",
    "print(f\"{y_std=}\")\n"
   ]
  },
  {
   "cell_type": "code",
   "execution_count": 5,
   "metadata": {},
   "outputs": [
    {
     "name": "stdout",
     "output_type": "stream",
     "text": [
      "tensor([0., 1., 2., 3., 4., 5., 6., 7.])\n",
      "tensor([-0.7605, -0.6340, -0.1256,  0.8322, -0.2665,  0.7972, -0.7300, -0.1932,\n",
      "        -0.6782, -0.2994, -0.1654, -0.5390, -0.1931,  0.2614, -0.7238])\n"
     ]
    }
   ],
   "source": [
    "import torch\n",
    "qpos = torch.tensor([1.0,2.0,3.0,4.0,5.0,6.0,7.0,8.0])\n",
    "mean = torch.tensor([1, 1, 1, 1, 1, 1, 1, 1])\n",
    "std = 1\n",
    "\n",
    "print(qpos - std)\n",
    "\n",
    "qpos_data = torch.tensor([-5.6729e-01, -4.4083e-01,  6.7558e-02,  1.0254e+00, -7.3304e-02,9.9043e-01, -5.3684e-01,  0.0000e+00, -4.8498e-01, -1.0621e-01, 2.7752e-02, -3.4583e-01,  5.7936e-05,  4.5461e-01, -5.3059e-01])\n",
    "\n",
    "mean = 0.1931866\n",
    "\n",
    "print(qpos_data - mean)"
   ]
  },
  {
   "cell_type": "code",
   "execution_count": 6,
   "metadata": {},
   "outputs": [
    {
     "name": "stdout",
     "output_type": "stream",
     "text": [
      "qpos 的形状: (90, 8)\n",
      "qpos[0] 的形状: (8,)\n",
      "qpos_diff 的形状: (8, 8)\n"
     ]
    }
   ],
   "source": [
    "import numpy as np\n",
    "\n",
    "# 随机生成 qpos\n",
    "qpos_shape = (90, 8)\n",
    "qpos = np.random.rand(*qpos_shape)\n",
    "qpos_zero = qpos[0]\n",
    "\n",
    "# 计算差值张量 qpos_diff\n",
    "for idx in range(qpos.shape[0]):\n",
    "  \n",
    "\n",
    "qpos_diff = [a - b for a, b in zip(qpos, qpos_zero)]\n",
    "\n",
    "# 打印结果\n",
    "print(\"qpos 的形状:\", qpos.shape)\n",
    "print(\"qpos[0] 的形状:\", qpos_zero.shape)\n",
    "print(\"qpos_diff 的形状:\", np.array(qpos_diff).shape)\n"
   ]
  },
  {
   "cell_type": "code",
   "execution_count": 17,
   "metadata": {},
   "outputs": [
    {
     "name": "stdout",
     "output_type": "stream",
     "text": [
      "qpos 的形状: (90, 8)\n",
      "qpos[0] 的形状: (8,)\n",
      "qpos_diff 的形状: (8, 8)\n",
      "<class 'list'>\n"
     ]
    }
   ],
   "source": [
    "import numpy as np\n",
    "\n",
    "# 随机生成 qpos\n",
    "qpos_shape = (90, 8)\n",
    "qpos = np.random.rand(*qpos_shape)\n",
    "qpos_zero = qpos[0]\n",
    "\n",
    "# 计算差值张量 qpos_diff\n",
    "qpos_diff = [a - b for a, b in zip(qpos, qpos_zero)]\n",
    "\n",
    "# 打印结果\n",
    "print(\"qpos 的形状:\", qpos.shape)\n",
    "print(\"qpos[0] 的形状:\", qpos_zero.shape)\n",
    "print(\"qpos_diff 的形状:\", np.array(qpos_diff).shape)\n",
    "print(type(qpos_diff))\n",
    "# 输出代码为什么是\n",
    "# qpos 的形状: (90, 8)\n",
    "# qpos[0] 的形状: (8,)\n",
    "# qpos_diff 的形状: (8, 8)"
   ]
  },
  {
   "cell_type": "code",
   "execution_count": 19,
   "metadata": {},
   "outputs": [
    {
     "name": "stdout",
     "output_type": "stream",
     "text": [
      "[0.81076329 0.61987297 0.30150326 0.320093   0.21234729 0.63720904\n",
      " 0.32008724 0.09214885]\n",
      "[-0.18923671 -0.38012703 -0.69849674 -0.679907   -0.78765271 -0.36279096\n",
      " -0.67991276 -0.90785115]\n",
      "qpos 的形状: (90, 8)\n",
      "qpos[0] 的形状: (8,)\n",
      "qpos_diff 的形状: (90, 8)\n"
     ]
    }
   ],
   "source": [
    "import numpy as np\n",
    "\n",
    "# 随机生成 qpos\n",
    "qpos_shape = (90, 8)\n",
    "qpos = np.random.rand(*qpos_shape)\n",
    "print(qpos[7])\n",
    "qpos_zero = np.array([1,1,1,1,1,1,1,1])\n",
    "\n",
    "# 计算差值张量 qpos_diff\n",
    "qpos_diff = np.subtract(qpos, qpos_zero)\n",
    "# qpos_diff = [a - b for a, b in zip(qpos, qpos_zero)]\n",
    "print(qpos_diff[7])\n",
    "\n",
    "# 打印结果\n",
    "print(\"qpos 的形状:\", qpos.shape)\n",
    "print(\"qpos[0] 的形状:\", qpos_zero.shape)\n",
    "print(\"qpos_diff 的形状:\", np.array(qpos_diff).shape)\n"
   ]
  },
  {
   "cell_type": "code",
   "execution_count": null,
   "metadata": {},
   "outputs": [],
   "source": []
  }
 ],
 "metadata": {
  "kernelspec": {
   "display_name": "Python 3",
   "language": "python",
   "name": "python3"
  },
  "language_info": {
   "codemirror_mode": {
    "name": "ipython",
    "version": 3
   },
   "file_extension": ".py",
   "mimetype": "text/x-python",
   "name": "python",
   "nbconvert_exporter": "python",
   "pygments_lexer": "ipython3",
   "version": "3.8.10"
  }
 },
 "nbformat": 4,
 "nbformat_minor": 2
}
