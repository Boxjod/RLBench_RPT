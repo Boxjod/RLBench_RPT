{
 "cells": [
  {
   "cell_type": "code",
   "execution_count": 17,
   "metadata": {},
   "outputs": [
    {
     "name": "stdout",
     "output_type": "stream",
     "text": [
      "action_mean: [ 0.23466764  1.1412239   0.96724695 -0.5919767  -0.16368787  0.14655481  2.7120457   0.          0.          0.          0.          0.          0.          0.        ]\n",
      "action_std: [0.17381343 0.4683141  0.4009654  0.6154569  0.13357252 0.15042895 2.4720838  0.01       0.01       0.01       0.01       0.01       0.01       0.01      ]\n",
      "qpos_mean: [ 0.22927585  1.1301697   0.9517051  -0.5877072  -0.15959154  0.13734761  0.2220291   0.22927585  1.1301697   0.9517051  -0.5877072  -0.15959154  0.13734761  0.2220291 ]\n",
      "qpos_std: [0.17348446 0.48136765 0.40902093 0.60353696 0.1311516  0.14763731 0.13011052 0.17348446 0.48136765 0.40902093 0.60353696 0.1311516  0.14763731 0.13011052]\n",
      "example_qpos: [[-1.9073486e-04  2.8610229e-03  2.3841858e-02 ... -1.9073486e-04 -2.5367737e-02  9.9342661e-03]\n",
      " [-5.7220459e-04  2.8610229e-03  2.3841858e-02 ... -1.9073486e-04 -2.5749207e-02  9.9342661e-03]\n",
      " [-5.7220459e-04  2.8610229e-03  2.3841858e-02 ... -1.9073486e-04 -2.5367737e-02  9.9342661e-03]\n",
      " ...\n",
      " [ 3.5915947e-01  1.1476688e+00  1.2689781e+00 ... -5.0927162e-02  1.8368053e-01  3.6616883e-01]\n",
      " [ 3.5915947e-01  1.1476688e+00  1.2689781e+00 ... -5.0927162e-02  1.8368053e-01  3.6616883e-01]\n",
      " [ 3.5915947e-01  1.1476688e+00  1.2689781e+00 ... -5.1308632e-02  1.8368053e-01  3.6616883e-01]]\n"
     ]
    }
   ],
   "source": [
    "import pickle\n",
    "import numpy as np\n",
    "np.set_printoptions(linewidth=200)\n",
    "\n",
    "file_path = \"/home/boxjod/ARX_ACT/ARX_ACT_V2/mobile_aloha/trainings/task_want_tea/dataset_stats.pkl\"\n",
    "\n",
    "with open(file_path, 'rb') as f:\n",
    "    data = pickle.load(f)\n",
    "\n",
    "for k, v in data.items(): \n",
    "    print(f\"{k}: {v}\")\n"
   ]
  },
  {
   "cell_type": "code",
   "execution_count": null,
   "metadata": {},
   "outputs": [],
   "source": [
    "# some tricks\n",
    "qpos_mean = all_qpos_data.mean(dim=[0, 1, 2], keepdim=True) # [1, 1, 1]\n",
    "qpos_std = all_qpos_data.std(dim=[0, 1, 2], keepdim=True) # [1, 1, 1]\n"
   ]
  }
 ],
 "metadata": {
  "kernelspec": {
   "display_name": "xj_rlbench",
   "language": "python",
   "name": "python3"
  },
  "language_info": {
   "codemirror_mode": {
    "name": "ipython",
    "version": 3
   },
   "file_extension": ".py",
   "mimetype": "text/x-python",
   "name": "python",
   "nbconvert_exporter": "python",
   "pygments_lexer": "ipython3",
   "version": "3.8.10"
  }
 },
 "nbformat": 4,
 "nbformat_minor": 2
}
